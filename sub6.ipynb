{
 "cells": [
  {
   "cell_type": "code",
   "execution_count": 11,
   "metadata": {},
   "outputs": [],
   "source": [
    "import numpy as np\n",
    "import pandas as pd\n",
    "from datetime import datetime, timedelta\n"
   ]
  },
  {
   "cell_type": "code",
   "execution_count": 12,
   "metadata": {},
   "outputs": [],
   "source": [
    "MODEL_NAME = \"cat\""
   ]
  },
  {
   "attachments": {},
   "cell_type": "markdown",
   "metadata": {},
   "source": [
    "# Load and preprocess"
   ]
  },
  {
   "cell_type": "code",
   "execution_count": 13,
   "metadata": {},
   "outputs": [],
   "source": [
    "df_train = pd.read_csv(\"./data/train.csv\",dtype={'일시':int})"
   ]
  },
  {
   "cell_type": "code",
   "execution_count": 14,
   "metadata": {},
   "outputs": [
    {
     "data": {
      "text/html": [
       "<div>\n",
       "<style scoped>\n",
       "    .dataframe tbody tr th:only-of-type {\n",
       "        vertical-align: middle;\n",
       "    }\n",
       "\n",
       "    .dataframe tbody tr th {\n",
       "        vertical-align: top;\n",
       "    }\n",
       "\n",
       "    .dataframe thead th {\n",
       "        text-align: right;\n",
       "    }\n",
       "</style>\n",
       "<table border=\"1\" class=\"dataframe\">\n",
       "  <thead>\n",
       "    <tr style=\"text-align: right;\">\n",
       "      <th></th>\n",
       "      <th>일시</th>\n",
       "      <th>광진구</th>\n",
       "      <th>동대문구</th>\n",
       "      <th>성동구</th>\n",
       "      <th>중랑구</th>\n",
       "    </tr>\n",
       "  </thead>\n",
       "  <tbody>\n",
       "    <tr>\n",
       "      <th>0</th>\n",
       "      <td>20180101</td>\n",
       "      <td>0.592</td>\n",
       "      <td>0.368</td>\n",
       "      <td>0.580</td>\n",
       "      <td>0.162</td>\n",
       "    </tr>\n",
       "    <tr>\n",
       "      <th>1</th>\n",
       "      <td>20180102</td>\n",
       "      <td>0.840</td>\n",
       "      <td>0.614</td>\n",
       "      <td>1.034</td>\n",
       "      <td>0.260</td>\n",
       "    </tr>\n",
       "    <tr>\n",
       "      <th>2</th>\n",
       "      <td>20180103</td>\n",
       "      <td>0.828</td>\n",
       "      <td>0.576</td>\n",
       "      <td>0.952</td>\n",
       "      <td>0.288</td>\n",
       "    </tr>\n",
       "    <tr>\n",
       "      <th>3</th>\n",
       "      <td>20180104</td>\n",
       "      <td>0.792</td>\n",
       "      <td>0.542</td>\n",
       "      <td>0.914</td>\n",
       "      <td>0.292</td>\n",
       "    </tr>\n",
       "    <tr>\n",
       "      <th>4</th>\n",
       "      <td>20180105</td>\n",
       "      <td>0.818</td>\n",
       "      <td>0.602</td>\n",
       "      <td>0.994</td>\n",
       "      <td>0.308</td>\n",
       "    </tr>\n",
       "  </tbody>\n",
       "</table>\n",
       "</div>"
      ],
      "text/plain": [
       "         일시    광진구   동대문구    성동구    중랑구\n",
       "0  20180101  0.592  0.368  0.580  0.162\n",
       "1  20180102  0.840  0.614  1.034  0.260\n",
       "2  20180103  0.828  0.576  0.952  0.288\n",
       "3  20180104  0.792  0.542  0.914  0.292\n",
       "4  20180105  0.818  0.602  0.994  0.308"
      ]
     },
     "execution_count": 14,
     "metadata": {},
     "output_type": "execute_result"
    }
   ],
   "source": [
    "df_train.head()"
   ]
  },
  {
   "cell_type": "code",
   "execution_count": 15,
   "metadata": {},
   "outputs": [],
   "source": [
    "def dfByDateRange(dt_start:datetime,dt_end:datetime):\n",
    "    dts=[]\n",
    "    dt_cur = dt_start\n",
    "    while dt_cur <= dt_end:\n",
    "        dts.append(dt_cur.year*10000 + dt_cur.month*100 + dt_cur.day)\n",
    "        dt_cur += timedelta(days=1)\n",
    "\n",
    "    return pd.DataFrame({'일시': dts})"
   ]
  },
  {
   "cell_type": "code",
   "execution_count": 16,
   "metadata": {},
   "outputs": [],
   "source": [
    "def preprocess(df,holiday_path,makeY=False):\n",
    "    df_holiday =  pd.read_csv(holiday_path,dtype={'locdate':int})\n",
    "\n",
    "    holidays = df_holiday['locdate'].apply(lambda x : datetime(year=int(x//1e4), month = int((x%1e4)//100), day=int(x%100)))\n",
    "    \n",
    "    df_features = pd.DataFrame()\n",
    "    df_features['date'] = df['일시'].apply(lambda x : datetime(year=int(x//1e4), month = int((x%1e4)//100), day=int(x%100)))\n",
    "    df_features['weekday'] = df_features['date'].apply(lambda date : date.weekday()) / 7.0\n",
    "    df_features['weekend'] =  df_features['date'].apply(lambda date : date.weekday() == 5 or date.weekday() == 6)\n",
    "    df_features['month'] = df_features['date'].apply(lambda date : date.month) / 12.0\n",
    "    #df_features['day_of_month']= df_features['date'].apply(lambda date : date.day) \n",
    "    df_features['day_of_year'] = df_features['date'].apply(lambda date : date.timetuple().tm_yday) / 365.0 \n",
    "    df_features['red'] = df_features['date'].isin(holidays) | df_features['weekday'].isin([5,6]) #saturday sunday\n",
    "    df_features['year'] = df_features['date'].apply(lambda date : date.year) / 2018.0\n",
    "    df_features['week_of_year']=df_features['date'].apply(lambda date : date.isocalendar()[1]) / 53.0\n",
    "\n",
    "    df_features['vacation'] = False\n",
    "    df_features['rainy_season'] = df_features['date'].apply(lambda date : 726 >= date.month*100 + date.day >= 625)\n",
    "\n",
    "    for i in range(1,df_features.shape[0]-1):\n",
    "        if df_features[\"red\"][i] & df_features[\"red\"][i-1] & df_features[\"red\"][i+1]:\n",
    "            df_features.at[i-1,\"vacation\"] = True\n",
    "            df_features.at[i,\"vacation\"] = True\n",
    "            df_features.at[i+1,\"vacation\"] = True\n",
    "\n",
    "\n",
    "    cols_location = ['광진구','동대문구','성동구','중랑구']\n",
    "    list_df_features_by_loc = []\n",
    "    for idx, loc in enumerate(cols_location):\n",
    "        df_new = df_features.copy()\n",
    "        df_new['loc'] = idx\n",
    "        if makeY:\n",
    "            df_new['y']=df[loc]\n",
    "        list_df_features_by_loc.append(df_new)\n",
    "\n",
    "    df_ret=pd.concat(list_df_features_by_loc)\n",
    "    df_ret = df_ret.reset_index(drop=True)\n",
    "\n",
    "    df_ret = df_ret.drop('date',axis=1)\n",
    "\n",
    "    return df_ret\n",
    "\n"
   ]
  },
  {
   "cell_type": "code",
   "execution_count": 17,
   "metadata": {},
   "outputs": [],
   "source": [
    "df_processed = preprocess(df_train,'./data/holiday_train.csv',makeY=True)\n",
    "\n",
    "df_trainX = df_processed.drop(['y'],axis=1)\n",
    "df_trainY = df_processed['y']"
   ]
  },
  {
   "cell_type": "code",
   "execution_count": 18,
   "metadata": {},
   "outputs": [
    {
     "data": {
      "text/html": [
       "<div>\n",
       "<style scoped>\n",
       "    .dataframe tbody tr th:only-of-type {\n",
       "        vertical-align: middle;\n",
       "    }\n",
       "\n",
       "    .dataframe tbody tr th {\n",
       "        vertical-align: top;\n",
       "    }\n",
       "\n",
       "    .dataframe thead th {\n",
       "        text-align: right;\n",
       "    }\n",
       "</style>\n",
       "<table border=\"1\" class=\"dataframe\">\n",
       "  <thead>\n",
       "    <tr style=\"text-align: right;\">\n",
       "      <th></th>\n",
       "      <th>weekday</th>\n",
       "      <th>weekend</th>\n",
       "      <th>month</th>\n",
       "      <th>day_of_year</th>\n",
       "      <th>red</th>\n",
       "      <th>year</th>\n",
       "      <th>week_of_year</th>\n",
       "      <th>vacation</th>\n",
       "      <th>rainy_season</th>\n",
       "      <th>loc</th>\n",
       "    </tr>\n",
       "  </thead>\n",
       "  <tbody>\n",
       "    <tr>\n",
       "      <th>5839</th>\n",
       "      <td>0.000000</td>\n",
       "      <td>False</td>\n",
       "      <td>1.0</td>\n",
       "      <td>0.989041</td>\n",
       "      <td>False</td>\n",
       "      <td>1.001487</td>\n",
       "      <td>0.981132</td>\n",
       "      <td>False</td>\n",
       "      <td>False</td>\n",
       "      <td>3</td>\n",
       "    </tr>\n",
       "    <tr>\n",
       "      <th>5840</th>\n",
       "      <td>0.142857</td>\n",
       "      <td>False</td>\n",
       "      <td>1.0</td>\n",
       "      <td>0.991781</td>\n",
       "      <td>False</td>\n",
       "      <td>1.001487</td>\n",
       "      <td>0.981132</td>\n",
       "      <td>False</td>\n",
       "      <td>False</td>\n",
       "      <td>3</td>\n",
       "    </tr>\n",
       "    <tr>\n",
       "      <th>5841</th>\n",
       "      <td>0.285714</td>\n",
       "      <td>False</td>\n",
       "      <td>1.0</td>\n",
       "      <td>0.994521</td>\n",
       "      <td>False</td>\n",
       "      <td>1.001487</td>\n",
       "      <td>0.981132</td>\n",
       "      <td>False</td>\n",
       "      <td>False</td>\n",
       "      <td>3</td>\n",
       "    </tr>\n",
       "    <tr>\n",
       "      <th>5842</th>\n",
       "      <td>0.428571</td>\n",
       "      <td>False</td>\n",
       "      <td>1.0</td>\n",
       "      <td>0.997260</td>\n",
       "      <td>False</td>\n",
       "      <td>1.001487</td>\n",
       "      <td>0.981132</td>\n",
       "      <td>False</td>\n",
       "      <td>False</td>\n",
       "      <td>3</td>\n",
       "    </tr>\n",
       "    <tr>\n",
       "      <th>5843</th>\n",
       "      <td>0.571429</td>\n",
       "      <td>False</td>\n",
       "      <td>1.0</td>\n",
       "      <td>1.000000</td>\n",
       "      <td>False</td>\n",
       "      <td>1.001487</td>\n",
       "      <td>0.981132</td>\n",
       "      <td>False</td>\n",
       "      <td>False</td>\n",
       "      <td>3</td>\n",
       "    </tr>\n",
       "  </tbody>\n",
       "</table>\n",
       "</div>"
      ],
      "text/plain": [
       "       weekday  weekend  month  day_of_year    red      year  week_of_year  \\\n",
       "5839  0.000000    False    1.0     0.989041  False  1.001487      0.981132   \n",
       "5840  0.142857    False    1.0     0.991781  False  1.001487      0.981132   \n",
       "5841  0.285714    False    1.0     0.994521  False  1.001487      0.981132   \n",
       "5842  0.428571    False    1.0     0.997260  False  1.001487      0.981132   \n",
       "5843  0.571429    False    1.0     1.000000  False  1.001487      0.981132   \n",
       "\n",
       "      vacation  rainy_season  loc  \n",
       "5839     False         False    3  \n",
       "5840     False         False    3  \n",
       "5841     False         False    3  \n",
       "5842     False         False    3  \n",
       "5843     False         False    3  "
      ]
     },
     "execution_count": 18,
     "metadata": {},
     "output_type": "execute_result"
    }
   ],
   "source": [
    "df_trainX.tail()"
   ]
  },
  {
   "attachments": {},
   "cell_type": "markdown",
   "metadata": {},
   "source": [
    "# Train"
   ]
  },
  {
   "cell_type": "code",
   "execution_count": 19,
   "metadata": {},
   "outputs": [
    {
     "name": "stdout",
     "output_type": "stream",
     "text": [
      "0:\tlearn: 2.5177188\ttotal: 2.3ms\tremaining: 1.61s\n",
      "699:\tlearn: 0.9205025\ttotal: 1.26s\tremaining: 0us\n"
     ]
    },
    {
     "data": {
      "text/plain": [
       "<catboost.core.CatBoostRegressor at 0x2037b9669a0>"
      ]
     },
     "execution_count": 19,
     "metadata": {},
     "output_type": "execute_result"
    }
   ],
   "source": [
    "from catboost import CatBoostRegressor\n",
    "\n",
    "DEV=\"cpu\"\n",
    "\n",
    "params = {\n",
    "    'learning_rate': 0.01, \n",
    "    #'max_depth':8,\n",
    "    'objective': 'MAE',\n",
    "    'early_stopping_rounds' : 10000,\n",
    "    'eval_metric':'MAE',\n",
    "    'iterations':700,\n",
    "    'random_seed':42,\n",
    "    'metric_period':1000,\n",
    "    'random_seed':42,\n",
    "    #'boosting':'dart',\n",
    "}\n",
    "\n",
    "\n",
    "\n",
    "cat = CatBoostRegressor(**params)\n",
    "cat.fit(X=df_trainX, y = df_trainY)"
   ]
  },
  {
   "attachments": {},
   "cell_type": "markdown",
   "metadata": {},
   "source": [
    "# Prediction and make Submission file"
   ]
  },
  {
   "cell_type": "code",
   "execution_count": 20,
   "metadata": {},
   "outputs": [
    {
     "name": "stdout",
     "output_type": "stream",
     "text": [
      "sub_cat_20221214_222648.csv\n"
     ]
    }
   ],
   "source": [
    "df_test = dfByDateRange(datetime(year=2022,month=1,day=1),datetime(year=2022,month=11,day=30))\n",
    "df_testX = preprocess(df_test,'./data/holiday_test.csv')\n",
    "\n",
    "prediction = cat.predict(df_testX)\n",
    "prediction[prediction<0.01] = 0.01\n",
    "\n",
    "n_dates = len(prediction)//4\n",
    "df_submission = pd.DataFrame({\n",
    "    '일시':df_test['일시'].values,\n",
    "    '광진구':prediction[:n_dates],\n",
    "    '동대문구':prediction[n_dates:2*n_dates],\n",
    "    '성동구':prediction[2*n_dates:3*n_dates],\n",
    "    '중랑구':prediction[3*n_dates:]\n",
    "})\n",
    "\n",
    "filename = f\"sub_{MODEL_NAME}_{datetime.now().strftime('%Y%m%d_%H%M%S')}.csv\"\n",
    "print(filename)\n",
    "df_submission.to_csv(f\"./{filename}\", index=False)"
   ]
  },
  {
   "cell_type": "code",
   "execution_count": 21,
   "metadata": {},
   "outputs": [
    {
     "data": {
      "text/html": [
       "<div>\n",
       "<style scoped>\n",
       "    .dataframe tbody tr th:only-of-type {\n",
       "        vertical-align: middle;\n",
       "    }\n",
       "\n",
       "    .dataframe tbody tr th {\n",
       "        vertical-align: top;\n",
       "    }\n",
       "\n",
       "    .dataframe thead th {\n",
       "        text-align: right;\n",
       "    }\n",
       "</style>\n",
       "<table border=\"1\" class=\"dataframe\">\n",
       "  <thead>\n",
       "    <tr style=\"text-align: right;\">\n",
       "      <th></th>\n",
       "      <th>일시</th>\n",
       "      <th>광진구</th>\n",
       "      <th>동대문구</th>\n",
       "      <th>성동구</th>\n",
       "      <th>중랑구</th>\n",
       "    </tr>\n",
       "  </thead>\n",
       "  <tbody>\n",
       "    <tr>\n",
       "      <th>329</th>\n",
       "      <td>20221126</td>\n",
       "      <td>6.861944</td>\n",
       "      <td>5.570131</td>\n",
       "      <td>5.603426</td>\n",
       "      <td>4.105433</td>\n",
       "    </tr>\n",
       "    <tr>\n",
       "      <th>330</th>\n",
       "      <td>20221127</td>\n",
       "      <td>6.310531</td>\n",
       "      <td>4.994095</td>\n",
       "      <td>5.084480</td>\n",
       "      <td>3.671906</td>\n",
       "    </tr>\n",
       "    <tr>\n",
       "      <th>331</th>\n",
       "      <td>20221128</td>\n",
       "      <td>7.190272</td>\n",
       "      <td>6.119164</td>\n",
       "      <td>6.022596</td>\n",
       "      <td>4.331204</td>\n",
       "    </tr>\n",
       "    <tr>\n",
       "      <th>332</th>\n",
       "      <td>20221129</td>\n",
       "      <td>7.212938</td>\n",
       "      <td>6.130321</td>\n",
       "      <td>6.037548</td>\n",
       "      <td>4.354235</td>\n",
       "    </tr>\n",
       "    <tr>\n",
       "      <th>333</th>\n",
       "      <td>20221130</td>\n",
       "      <td>7.260728</td>\n",
       "      <td>6.167976</td>\n",
       "      <td>6.077848</td>\n",
       "      <td>4.387612</td>\n",
       "    </tr>\n",
       "  </tbody>\n",
       "</table>\n",
       "</div>"
      ],
      "text/plain": [
       "           일시       광진구      동대문구       성동구       중랑구\n",
       "329  20221126  6.861944  5.570131  5.603426  4.105433\n",
       "330  20221127  6.310531  4.994095  5.084480  3.671906\n",
       "331  20221128  7.190272  6.119164  6.022596  4.331204\n",
       "332  20221129  7.212938  6.130321  6.037548  4.354235\n",
       "333  20221130  7.260728  6.167976  6.077848  4.387612"
      ]
     },
     "execution_count": 21,
     "metadata": {},
     "output_type": "execute_result"
    }
   ],
   "source": [
    "df_submission.tail()"
   ]
  }
 ],
 "metadata": {
  "kernelspec": {
   "display_name": "Python 3.9.7 ('base')",
   "language": "python",
   "name": "python3"
  },
  "language_info": {
   "codemirror_mode": {
    "name": "ipython",
    "version": 3
   },
   "file_extension": ".py",
   "mimetype": "text/x-python",
   "name": "python",
   "nbconvert_exporter": "python",
   "pygments_lexer": "ipython3",
   "version": "3.9.7"
  },
  "orig_nbformat": 4,
  "vscode": {
   "interpreter": {
    "hash": "73c3e5db7080094009064c3404c1c1c6dbf6ff58ed05b045db46586db3374e68"
   }
  }
 },
 "nbformat": 4,
 "nbformat_minor": 2
}
